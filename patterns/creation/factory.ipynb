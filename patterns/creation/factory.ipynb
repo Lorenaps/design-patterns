{
 "cells": [
  {
   "cell_type": "markdown",
   "metadata": {},
   "source": [
    "# Factory\n",
    "\n",
    "> Define uma interface para criação de um objeto, mas adia a criação da instância para o tempo de execução."
   ]
  },
  {
   "cell_type": "code",
   "execution_count": 1,
   "metadata": {},
   "outputs": [],
   "source": [
    "class ShapeInterface:\n",
    "    \n",
    "    def draw(self):\n",
    "        pass"
   ]
  },
  {
   "cell_type": "code",
   "execution_count": 2,
   "metadata": {},
   "outputs": [],
   "source": [
    "class Circle(ShapeInterface):\n",
    "    \n",
    "    def draw(self):\n",
    "        print('Circle.draw')"
   ]
  },
  {
   "cell_type": "code",
   "execution_count": 3,
   "metadata": {},
   "outputs": [],
   "source": [
    "class Square(ShapeInterface):\n",
    "    \n",
    "    def draw(self):\n",
    "        print('Square.draw')"
   ]
  },
  {
   "cell_type": "code",
   "execution_count": 4,
   "metadata": {},
   "outputs": [],
   "source": [
    "class ShapeFactory():\n",
    "    \n",
    "    @staticmethod\n",
    "    def getShape(type):\n",
    "        \n",
    "        if type == 'circle':\n",
    "            return Circle()\n",
    "        \n",
    "        elif type == 'Square':\n",
    "            return Square()\n",
    "        \n",
    "        assert False, 'Could not find shape: ' + type\n",
    "        "
   ]
  },
  {
   "cell_type": "code",
   "execution_count": 5,
   "metadata": {},
   "outputs": [],
   "source": [
    "factory = ShapeFactory()"
   ]
  },
  {
   "cell_type": "code",
   "execution_count": 6,
   "metadata": {},
   "outputs": [
    {
     "data": {
      "text/plain": [
       "<__main__.Square at 0x7f5461220198>"
      ]
     },
     "execution_count": 6,
     "metadata": {},
     "output_type": "execute_result"
    }
   ],
   "source": [
    "square = factory.getShape('Square')\n",
    "\n",
    "square"
   ]
  },
  {
   "cell_type": "code",
   "execution_count": 7,
   "metadata": {},
   "outputs": [
    {
     "name": "stdout",
     "output_type": "stream",
     "text": [
      "Square.draw\n"
     ]
    }
   ],
   "source": [
    "square.draw()"
   ]
  },
  {
   "cell_type": "code",
   "execution_count": 8,
   "metadata": {},
   "outputs": [
    {
     "ename": "AssertionError",
     "evalue": "Could not find shape: triangle",
     "output_type": "error",
     "traceback": [
      "\u001b[0;31m---------------------------------------------------------------------------\u001b[0m",
      "\u001b[0;31mAssertionError\u001b[0m                            Traceback (most recent call last)",
      "\u001b[0;32m<ipython-input-8-f64505933fe1>\u001b[0m in \u001b[0;36m<module>\u001b[0;34m\u001b[0m\n\u001b[0;32m----> 1\u001b[0;31m \u001b[0mtriangle\u001b[0m \u001b[0;34m=\u001b[0m \u001b[0mfactory\u001b[0m\u001b[0;34m.\u001b[0m\u001b[0mgetShape\u001b[0m\u001b[0;34m(\u001b[0m\u001b[0;34m'triangle'\u001b[0m\u001b[0;34m)\u001b[0m\u001b[0;34m\u001b[0m\u001b[0;34m\u001b[0m\u001b[0m\n\u001b[0m",
      "\u001b[0;32m<ipython-input-4-eb2454abc2e9>\u001b[0m in \u001b[0;36mgetShape\u001b[0;34m(type)\u001b[0m\n\u001b[1;32m     10\u001b[0m             \u001b[0;32mreturn\u001b[0m \u001b[0mSquare\u001b[0m\u001b[0;34m(\u001b[0m\u001b[0;34m)\u001b[0m\u001b[0;34m\u001b[0m\u001b[0;34m\u001b[0m\u001b[0m\n\u001b[1;32m     11\u001b[0m \u001b[0;34m\u001b[0m\u001b[0m\n\u001b[0;32m---> 12\u001b[0;31m         \u001b[0;32massert\u001b[0m \u001b[0;32mFalse\u001b[0m\u001b[0;34m,\u001b[0m \u001b[0;34m'Could not find shape: '\u001b[0m \u001b[0;34m+\u001b[0m \u001b[0mtype\u001b[0m\u001b[0;34m\u001b[0m\u001b[0;34m\u001b[0m\u001b[0m\n\u001b[0m\u001b[1;32m     13\u001b[0m \u001b[0;34m\u001b[0m\u001b[0m\n",
      "\u001b[0;31mAssertionError\u001b[0m: Could not find shape: triangle"
     ]
    }
   ],
   "source": [
    "triangle = factory.getShape('triangle')"
   ]
  },
  {
   "cell_type": "code",
   "execution_count": 9,
   "metadata": {},
   "outputs": [
    {
     "name": "stdout",
     "output_type": "stream",
     "text": [
      "Circle.draw\n"
     ]
    }
   ],
   "source": [
    "circle = factory.getShape('circle')\n",
    "circle.draw()"
   ]
  },
  {
   "cell_type": "markdown",
   "metadata": {},
   "source": [
    "# Abstract Factory\n",
    "\n",
    "> Provê uma interface para criar famílias de objetos relacionados sem especificar sua classe concreta.\n",
    "\n",
    "Como construir um Abstract Factory:\n",
    "- Criar uma família de interfaces ou classes abstratas\n",
    "- Criar a classe concreta de cada uma delas\n",
    "- Criar um Factory abstrato que se aplica a toda família\n",
    "- Criar uma Factory concreta para cada classe base"
   ]
  },
  {
   "cell_type": "markdown",
   "metadata": {},
   "source": [
    "Interfaces"
   ]
  },
  {
   "cell_type": "code",
   "execution_count": 59,
   "metadata": {},
   "outputs": [],
   "source": [
    "class Shape2DInterface:\n",
    "    \n",
    "    def draw(self): pass"
   ]
  },
  {
   "cell_type": "code",
   "execution_count": 60,
   "metadata": {},
   "outputs": [],
   "source": [
    "class Shape3DInterface:\n",
    "    \n",
    "    def draw(self): pass"
   ]
  },
  {
   "cell_type": "markdown",
   "metadata": {},
   "source": [
    "Classes concretas"
   ]
  },
  {
   "cell_type": "code",
   "execution_count": 62,
   "metadata": {},
   "outputs": [],
   "source": [
    "class Circle(Shape2DInterface):\n",
    "    \n",
    "    def draw(self):\n",
    "        print('Circle.draw')"
   ]
  },
  {
   "cell_type": "code",
   "execution_count": 63,
   "metadata": {},
   "outputs": [],
   "source": [
    "class Square(Shape2DInterface):\n",
    "    \n",
    "    def draw(self):\n",
    "        print('Square.draw')"
   ]
  },
  {
   "cell_type": "code",
   "execution_count": 64,
   "metadata": {},
   "outputs": [],
   "source": [
    "class Sphere(Shape3DInterface):\n",
    "    \n",
    "    def draw(self):\n",
    "        print('Sphere.draw')"
   ]
  },
  {
   "cell_type": "code",
   "execution_count": 65,
   "metadata": {},
   "outputs": [],
   "source": [
    "class Cube(Shape3DInterface):\n",
    "\n",
    "    def draw(self):\n",
    "        print('Cube.draw')"
   ]
  },
  {
   "cell_type": "markdown",
   "metadata": {},
   "source": [
    "Factory abstrato"
   ]
  },
  {
   "cell_type": "code",
   "execution_count": 66,
   "metadata": {},
   "outputs": [],
   "source": [
    "class ShapeFactoryInterface:\n",
    "    \n",
    "    def getShape(sides): pass"
   ]
  },
  {
   "cell_type": "markdown",
   "metadata": {},
   "source": [
    "Factories concretos"
   ]
  },
  {
   "cell_type": "code",
   "execution_count": 69,
   "metadata": {},
   "outputs": [],
   "source": [
    "class Shape2DFactory(ShapeFactoryInterface):\n",
    "    \n",
    "    @staticmethod\n",
    "    def getShape(sides):\n",
    "        \n",
    "        if sides == 1:\n",
    "            return Circle()\n",
    "        \n",
    "        elif sides == 4:\n",
    "            return Square()\n",
    "        \n",
    "        assert False, 'Bad 2D shape creation: Shape not defined for ' + sides + ' sides.'"
   ]
  },
  {
   "cell_type": "code",
   "execution_count": 70,
   "metadata": {},
   "outputs": [],
   "source": [
    "class Shape3DFactory(ShapeFactoryInterface):\n",
    "\n",
    "    @staticmethod\n",
    "    def getShape(sides):\n",
    "        \n",
    "        if sides == 1:\n",
    "            return Sphere()\n",
    "        \n",
    "        elif sides == 6:\n",
    "            return Cube()\n",
    "        \n",
    "        assert False, 'Bad 3D shape creation: Shape not defined for ' + sides + ' faces.'"
   ]
  },
  {
   "cell_type": "code",
   "execution_count": 71,
   "metadata": {},
   "outputs": [
    {
     "data": {
      "text/plain": [
       "<__main__.Circle at 0x7ff1603b1470>"
      ]
     },
     "execution_count": 71,
     "metadata": {},
     "output_type": "execute_result"
    }
   ],
   "source": [
    "af = Shape2DFactory()\n",
    "\n",
    "af.getShape(1)"
   ]
  },
  {
   "cell_type": "code",
   "execution_count": 72,
   "metadata": {},
   "outputs": [
    {
     "data": {
      "text/plain": [
       "<__main__.Square at 0x7ff1603b14e0>"
      ]
     },
     "execution_count": 72,
     "metadata": {},
     "output_type": "execute_result"
    }
   ],
   "source": [
    "af.getShape(4)"
   ]
  },
  {
   "cell_type": "code",
   "execution_count": 73,
   "metadata": {},
   "outputs": [
    {
     "data": {
      "text/plain": [
       "<__main__.Sphere at 0x7ff1602ef048>"
      ]
     },
     "execution_count": 73,
     "metadata": {},
     "output_type": "execute_result"
    }
   ],
   "source": [
    "af = Shape3DFactory()\n",
    "\n",
    "af.getShape(1)"
   ]
  },
  {
   "cell_type": "code",
   "execution_count": 74,
   "metadata": {},
   "outputs": [
    {
     "data": {
      "text/plain": [
       "<__main__.Cube at 0x7ff1602effd0>"
      ]
     },
     "execution_count": 74,
     "metadata": {},
     "output_type": "execute_result"
    }
   ],
   "source": [
    "af.getShape(6)"
   ]
  },
  {
   "cell_type": "code",
   "execution_count": 75,
   "metadata": {},
   "outputs": [
    {
     "name": "stdout",
     "output_type": "stream",
     "text": [
      "Cube.draw\n"
     ]
    }
   ],
   "source": [
    "af.getShape(6).draw()"
   ]
  },
  {
   "cell_type": "markdown",
   "metadata": {},
   "source": [
    "### Implementação considerando o exemplo do livro Use a Cabeça - Padrões de Projeto"
   ]
  },
  {
   "cell_type": "markdown",
   "metadata": {},
   "source": [
    "Ponto inicial"
   ]
  },
  {
   "cell_type": "code",
   "execution_count": 29,
   "metadata": {},
   "outputs": [],
   "source": [
    "def orderPizza():\n",
    "    \n",
    "    pizza = Pizza() # instanciando uma pizza, mas qual tipo?\n",
    "    \n",
    "    pizza.prepare()\n",
    "    pizza.bake()\n",
    "    pizza.cut()\n",
    "    pizza.box()\n",
    "    \n",
    "    return pizza"
   ]
  },
  {
   "cell_type": "code",
   "execution_count": 27,
   "metadata": {},
   "outputs": [],
   "source": [
    "def orderPizza(type): # passando tipo por parâmetro\n",
    "    \n",
    "    if type == 'cheese':\n",
    "        pizza = CheesePizza()\n",
    "    \n",
    "    elif type == 'greek':\n",
    "        pizza = GreekPizza()\n",
    "        \n",
    "    pizza.prepare()\n",
    "    pizza.bake()\n",
    "    pizza.cut()\n",
    "    pizza.box()\n",
    "    \n",
    "    return pizza"
   ]
  },
  {
   "cell_type": "markdown",
   "metadata": {},
   "source": [
    "Melhorias"
   ]
  },
  {
   "cell_type": "code",
   "execution_count": 44,
   "metadata": {},
   "outputs": [],
   "source": [
    "class CheesePizza: pass\n",
    "class GreekPizza: pass\n",
    "\n",
    "class SimplePizzaFactory:\n",
    "    \n",
    "    def createPizza(self, type_pizza):\n",
    "        \n",
    "        pizza = None\n",
    "        \n",
    "        if type_pizza == 'cheese':\n",
    "            pizza = CheesePizza()\n",
    "    \n",
    "        elif type_pizza == 'greek':\n",
    "            pizza = GreekPizza()\n",
    "        \n",
    "        return pizza"
   ]
  },
  {
   "cell_type": "code",
   "execution_count": 47,
   "metadata": {},
   "outputs": [],
   "source": [
    "class PizzaStore:\n",
    "    \n",
    "    factory_pizza = SimplePizzaFactory()\n",
    "    \n",
    "    \n",
    "    def orderPizza(self, type_pizza): \n",
    "\n",
    "        pizza = self.factory_pizza.createPizza(type_pizza) # Agora a responsabilidade está encapsulada em um só lugar\n",
    "\n",
    "        pizza.prepare()\n",
    "        pizza.bake()\n",
    "        pizza.cut()\n",
    "        pizza.box()\n",
    "\n",
    "        return pizza"
   ]
  },
  {
   "cell_type": "code",
   "execution_count": 48,
   "metadata": {},
   "outputs": [],
   "source": [
    "# todo: desenvolver"
   ]
  }
 ],
 "metadata": {
  "kernelspec": {
   "display_name": "Python 3",
   "language": "python",
   "name": "python3"
  },
  "language_info": {
   "codemirror_mode": {
    "name": "ipython",
    "version": 3
   },
   "file_extension": ".py",
   "mimetype": "text/x-python",
   "name": "python",
   "nbconvert_exporter": "python",
   "pygments_lexer": "ipython3",
   "version": "3.6.10"
  }
 },
 "nbformat": 4,
 "nbformat_minor": 2
}
