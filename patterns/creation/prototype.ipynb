{
 "cells": [
  {
   "cell_type": "markdown",
   "metadata": {},
   "source": [
    "# Prototype\n",
    "\n",
    "> Permite que novos objetos sejam criados a partir do clone de um protótipo.\n",
    "\n",
    "Aspectos importantes:\n",
    "\n",
    "- O código cliente pode gerar novas instancias sem saber em qual classe específica elas são baseadas.\n",
    "- Oculta do cliente a criação de novas instâncias.\n",
    "- Deve ser considerado qundo um sistema precisa criar novos objetos de muitos tipos dentro de uma hierarquia complexa de classes."
   ]
  },
  {
   "cell_type": "markdown",
   "metadata": {},
   "source": [
    "Para o exemplo aqui vamos usar algumas classes criadas em [builder.ipynb]()"
   ]
  },
  {
   "cell_type": "code",
   "execution_count": 1,
   "metadata": {},
   "outputs": [
    {
     "name": "stdout",
     "output_type": "stream",
     "text": [
      "importing Jupyter notebook from builder.ipynb\n",
      "Body: SUV\n",
      "Engine horsepower: 400\n",
      "Tire size: 22'\n",
      "Body: hatchback\n",
      "Engine horsepower: 100\n",
      "Tire size: 16'\n"
     ]
    }
   ],
   "source": [
    "import import_ipynb\n",
    "import builder"
   ]
  },
  {
   "cell_type": "code",
   "execution_count": 2,
   "metadata": {},
   "outputs": [],
   "source": [
    "from copy import deepcopy"
   ]
  },
  {
   "cell_type": "markdown",
   "metadata": {},
   "source": [
    "Vamos criar uma nova classe Car que agora tem um método copy()"
   ]
  },
  {
   "cell_type": "code",
   "execution_count": 11,
   "metadata": {},
   "outputs": [],
   "source": [
    "class Car:\n",
    "    \n",
    "    def __init__(self):\n",
    "        self.__wheels = list()\n",
    "        self.__engine = None\n",
    "        self.__body = None\n",
    "        \n",
    "    def setBody(self, body):\n",
    "        self.__body = body\n",
    "        \n",
    "    def attachWheel(self, wheel):\n",
    "        self.__wheels.append(wheel)\n",
    "        \n",
    "    def setEngine(self, engine):\n",
    "        self.__engine = engine\n",
    "        \n",
    "    def specification(self):\n",
    "        print('Body: %s' % self.__body.shape)\n",
    "        print('Engine horsepower: %d' % self.__engine.horsepower)\n",
    "        print(\"Tire size: %d\\'\" % self.__wheels[0].size)\n",
    "        \n",
    "    def clone(self):\n",
    "        return deepcopy(self)"
   ]
  },
  {
   "cell_type": "markdown",
   "metadata": {},
   "source": [
    "Precisamos criar um novo Director também, para que ele use a nossa nova versão de Car."
   ]
  },
  {
   "cell_type": "code",
   "execution_count": 13,
   "metadata": {},
   "outputs": [],
   "source": [
    "class Director:\n",
    "    \n",
    "    __builder = None\n",
    "    \n",
    "    def setBuilder(self, builder):\n",
    "        self.__builder = builder\n",
    "        \n",
    "    # Algoritmo de montagem do carro\n",
    "    def getCar(self):\n",
    "        car = Car()\n",
    "        \n",
    "        body = self.__builder.getBody()\n",
    "        car.setBody(body)\n",
    "        \n",
    "        engine = self.__builder.getEngine()\n",
    "        car.setEngine(engine)\n",
    "        \n",
    "        i = 0\n",
    "        while i < 4:\n",
    "            wheel = self.__builder.getWheel()\n",
    "            car.attachWheel(wheel)\n",
    "            i += 1\n",
    "            \n",
    "        return car   "
   ]
  },
  {
   "cell_type": "code",
   "execution_count": 19,
   "metadata": {},
   "outputs": [],
   "source": [
    "d = Director()"
   ]
  },
  {
   "cell_type": "code",
   "execution_count": 20,
   "metadata": {},
   "outputs": [],
   "source": [
    "d.setBuilder(builder.JeepBuilder())"
   ]
  },
  {
   "cell_type": "code",
   "execution_count": 21,
   "metadata": {},
   "outputs": [
    {
     "data": {
      "text/plain": [
       "<__main__.Car at 0x7f9365f7e208>"
      ]
     },
     "execution_count": 21,
     "metadata": {},
     "output_type": "execute_result"
    }
   ],
   "source": [
    "jeep = d.getCar()\n",
    "jeep"
   ]
  },
  {
   "cell_type": "code",
   "execution_count": 22,
   "metadata": {},
   "outputs": [
    {
     "name": "stdout",
     "output_type": "stream",
     "text": [
      "Body: SUV\n",
      "Engine horsepower: 400\n",
      "Tire size: 22'\n"
     ]
    }
   ],
   "source": [
    "jeep.specification()"
   ]
  },
  {
   "cell_type": "code",
   "execution_count": 23,
   "metadata": {},
   "outputs": [
    {
     "data": {
      "text/plain": [
       "<__main__.Car at 0x7f9365f7e3c8>"
      ]
     },
     "execution_count": 23,
     "metadata": {},
     "output_type": "execute_result"
    }
   ],
   "source": [
    "jeep.clone()"
   ]
  },
  {
   "cell_type": "code",
   "execution_count": 24,
   "metadata": {},
   "outputs": [
    {
     "name": "stdout",
     "output_type": "stream",
     "text": [
      "Body: SUV\n",
      "Engine horsepower: 400\n",
      "Tire size: 22'\n"
     ]
    }
   ],
   "source": [
    "jeep2 = jeep.clone()\n",
    "jeep2.specification()"
   ]
  },
  {
   "cell_type": "markdown",
   "metadata": {},
   "source": [
    "Esse exemplo permite fazer uma cópia para um ponto diferente do plano."
   ]
  },
  {
   "cell_type": "code",
   "execution_count": 25,
   "metadata": {},
   "outputs": [],
   "source": [
    "class Point:\n",
    "    \n",
    "    def __init__(self, x, y):\n",
    "        self.x = x\n",
    "        self.y = y\n",
    "        \n",
    "    def __str__(self):\n",
    "        print(\"({}, {})\".format(self.x, self.y))\n",
    "        \n",
    "    def move(self, x, y):\n",
    "        self.x += x\n",
    "        self.y += y\n",
    "    \n",
    "    def clone(self, move_x, move_y):\n",
    "        obj = deepcopy(self)\n",
    "        obj.move(move_x, move_y)\n",
    "        \n",
    "        return obj"
   ]
  },
  {
   "cell_type": "code",
   "execution_count": 31,
   "metadata": {},
   "outputs": [
    {
     "name": "stdout",
     "output_type": "stream",
     "text": [
      "(0, 0)\n"
     ]
    }
   ],
   "source": [
    "p0 = Point(0,0)\n",
    "p0.__str__()"
   ]
  },
  {
   "cell_type": "code",
   "execution_count": 32,
   "metadata": {},
   "outputs": [
    {
     "name": "stdout",
     "output_type": "stream",
     "text": [
      "(2, 2)\n"
     ]
    }
   ],
   "source": [
    "p0.move(2,2)\n",
    "p0.__str__()"
   ]
  },
  {
   "cell_type": "code",
   "execution_count": 33,
   "metadata": {},
   "outputs": [
    {
     "name": "stdout",
     "output_type": "stream",
     "text": [
      "(7, 7)\n"
     ]
    }
   ],
   "source": [
    "p1 = p0.clone(5,5)\n",
    "p1.__str__()"
   ]
  }
 ],
 "metadata": {
  "kernelspec": {
   "display_name": "Python 3",
   "language": "python",
   "name": "python3"
  },
  "language_info": {
   "codemirror_mode": {
    "name": "ipython",
    "version": 3
   },
   "file_extension": ".py",
   "mimetype": "text/x-python",
   "name": "python",
   "nbconvert_exporter": "python",
   "pygments_lexer": "ipython3",
   "version": "3.6.10"
  }
 },
 "nbformat": 4,
 "nbformat_minor": 2
}
