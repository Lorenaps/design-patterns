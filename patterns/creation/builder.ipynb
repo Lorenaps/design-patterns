{
 "cells": [
  {
   "cell_type": "markdown",
   "metadata": {},
   "source": [
    "# Builder\n",
    "\n",
    "> Busca separar a construção de um objeto complexo de sua representação, para que o mesmo processo de construção possa criar diferentes representações.\n",
    "\n",
    "Partes do padrão:\n",
    "- Objeto complexo\n",
    "- Diretor\n",
    "- Abstract builder\n",
    "- Concrete builders"
   ]
  },
  {
   "cell_type": "markdown",
   "metadata": {},
   "source": [
    "Objeto complexo"
   ]
  },
  {
   "cell_type": "code",
   "execution_count": 13,
   "metadata": {},
   "outputs": [],
   "source": [
    "class Car:\n",
    "    \n",
    "    def __init__(self):\n",
    "        self.__wheels = list()\n",
    "        self.__engine = None\n",
    "        self.__body = None\n",
    "        \n",
    "    def setBody(self, body):\n",
    "        self.__body = body\n",
    "        \n",
    "    def attachWheel(self, wheel):\n",
    "        self.__wheels.append(wheel)\n",
    "        \n",
    "    def setEngine(self, engine):\n",
    "        self.__engine = engine\n",
    "        \n",
    "    def specification(self):\n",
    "        print('Body: %s' % self.__body.shape)\n",
    "        print('Engine horsepower: %d' % self.__engine.horsepower)\n",
    "        print(\"Tire size: %d\\'\" % self.__wheels[0].size)"
   ]
  },
  {
   "cell_type": "markdown",
   "metadata": {},
   "source": [
    "Partes do objeto complexo"
   ]
  },
  {
   "cell_type": "code",
   "execution_count": 14,
   "metadata": {},
   "outputs": [],
   "source": [
    "class Wheel:\n",
    "    \n",
    "    size = None\n",
    "    \n",
    "class Engine:\n",
    "    \n",
    "    horserpower = None\n",
    "    \n",
    "class Body:\n",
    "    \n",
    "    shape = None"
   ]
  },
  {
   "cell_type": "markdown",
   "metadata": {},
   "source": [
    "Diretor"
   ]
  },
  {
   "cell_type": "code",
   "execution_count": 20,
   "metadata": {},
   "outputs": [],
   "source": [
    "class Director:\n",
    "    \n",
    "    __builder = None\n",
    "    \n",
    "    def setBuilder(self, builder):\n",
    "        self.__builder = builder\n",
    "        \n",
    "    # Algoritmo de montagem do carro\n",
    "    def getCar(self):\n",
    "        car = Car()\n",
    "        \n",
    "        body = self.__builder.getBody()\n",
    "        car.setBody(body)\n",
    "        \n",
    "        engine = self.__builder.getEngine()\n",
    "        car.setEngine(engine)\n",
    "        \n",
    "        i = 0\n",
    "        while i < 4:\n",
    "            wheel = self.__builder.getWheel()\n",
    "            car.attachWheel(wheel)\n",
    "            i += 1\n",
    "            \n",
    "        return car   "
   ]
  },
  {
   "cell_type": "markdown",
   "metadata": {},
   "source": [
    "Builder abstrato"
   ]
  },
  {
   "cell_type": "code",
   "execution_count": 16,
   "metadata": {},
   "outputs": [],
   "source": [
    "class BuilderInterface:\n",
    "    \n",
    "    def getWheel(self): pass\n",
    "    def getEngine(self): pass\n",
    "    def getBody(self): pass"
   ]
  },
  {
   "cell_type": "markdown",
   "metadata": {},
   "source": [
    "Implementações concretas do Builder"
   ]
  },
  {
   "cell_type": "code",
   "execution_count": 17,
   "metadata": {},
   "outputs": [],
   "source": [
    "class JeepBuilder(BuilderInterface):\n",
    "    \n",
    "    def getWheel(self):\n",
    "        wheel = Wheel()\n",
    "        wheel.size = 22\n",
    "        \n",
    "        return wheel\n",
    "    \n",
    "    def getEngine(self):        \n",
    "        engine = Engine()\n",
    "        engine.horsepower = 400\n",
    "        \n",
    "        return engine\n",
    "    \n",
    "    def getBody(self):\n",
    "        body = Body()\n",
    "        body.shape = 'SUV'\n",
    "        \n",
    "        return body"
   ]
  },
  {
   "cell_type": "code",
   "execution_count": 18,
   "metadata": {},
   "outputs": [],
   "source": [
    "class NissanBuilder(BuilderInterface):\n",
    "    \n",
    "    def getWheel(self):\n",
    "        wheel = Wheel()\n",
    "        wheel.size = 16\n",
    "        \n",
    "        return wheel\n",
    "    \n",
    "    def getEngine(self):        \n",
    "        engine = Engine()\n",
    "        engine.horsepower = 100\n",
    "        \n",
    "        return engine\n",
    "    \n",
    "    def getBody(self):\n",
    "        body = Body()\n",
    "        body.shape = 'hatchback'\n",
    "        \n",
    "        return body\n",
    "        "
   ]
  },
  {
   "cell_type": "code",
   "execution_count": 23,
   "metadata": {},
   "outputs": [
    {
     "data": {
      "text/plain": [
       "<__main__.Car at 0x7f0b9c3c0a58>"
      ]
     },
     "execution_count": 23,
     "metadata": {},
     "output_type": "execute_result"
    }
   ],
   "source": [
    "diretor = Director()\n",
    "\n",
    "diretor.setBuilder(JeepBuilder())\n",
    "\n",
    "carro = diretor.getCar()\n",
    "\n",
    "carro"
   ]
  },
  {
   "cell_type": "code",
   "execution_count": 25,
   "metadata": {},
   "outputs": [
    {
     "name": "stdout",
     "output_type": "stream",
     "text": [
      "Body: SUV\n",
      "Engine horsepower: 400\n",
      "Tire size: 22'\n"
     ]
    }
   ],
   "source": [
    "carro.specification()"
   ]
  },
  {
   "cell_type": "code",
   "execution_count": 27,
   "metadata": {},
   "outputs": [
    {
     "name": "stdout",
     "output_type": "stream",
     "text": [
      "Body: hatchback\n",
      "Engine horsepower: 100\n",
      "Tire size: 16'\n"
     ]
    }
   ],
   "source": [
    "diretor.setBuilder(NissanBuilder())\n",
    "\n",
    "diretor.getCar().specification()"
   ]
  },
  {
   "cell_type": "markdown",
   "metadata": {},
   "source": [
    "Nesse caso temos de forma separada a representação dos carros na classe Car e a sua construção, considerando as suas especificações nos builders concretos. E o Director é a entidade que sabe a partir do construtor criar um carro que possua os detalhes especificados para aquele tipo de construção."
   ]
  }
 ],
 "metadata": {
  "kernelspec": {
   "display_name": "Python 3",
   "language": "python",
   "name": "python3"
  },
  "language_info": {
   "codemirror_mode": {
    "name": "ipython",
    "version": 3
   },
   "file_extension": ".py",
   "mimetype": "text/x-python",
   "name": "python",
   "nbconvert_exporter": "python",
   "pygments_lexer": "ipython3",
   "version": "3.6.10"
  }
 },
 "nbformat": 4,
 "nbformat_minor": 2
}
