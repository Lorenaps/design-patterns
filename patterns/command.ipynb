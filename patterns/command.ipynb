{
 "cells": [
  {
   "cell_type": "markdown",
   "metadata": {},
   "source": [
    "# Command\n",
    "\n",
    "> Permite desconectar o autor de uma solicitação do objeto que deverá executar a ação solicitada. Encapsula uma solicitação como um objeto, o que lhe permite parametrizar outros objetos com diferentes solicitações.\n",
    "\n",
    "\n",
    "```bash\n",
    "Screen\n",
    "|_cut()\n",
    "|_past()\n",
    "|_clear_clipboard()\n",
    "|_length()\n",
    "\n",
    "ScreenCommand\n",
    "    |_execute()\n",
    "    |_undo()\n",
    "    \n",
    "  ^\n",
    "  |_\n",
    "    |_CutCommand(ScreenCommand)\n",
    "    |_PasteCommand(ScreenCommand)\n",
    "    \n",
    "\n",
    "ScreenInvoker\n",
    "|_store_and_execute(self, command)\n",
    "|    |_command.execute()\n",
    "|_undo_last()\n",
    "\n",
    "```"
   ]
  },
  {
   "cell_type": "code",
   "execution_count": 1,
   "metadata": {},
   "outputs": [],
   "source": [
    "class Screen(object):\n",
    "    \n",
    "    def __init__(self, text=''):\n",
    "        self.text = text\n",
    "        self.clip_board = ''\n",
    "        \n",
    "    def cut(self, start=0, end=0):\n",
    "        self.clip_board = self.text[start:end]\n",
    "        self.text = self.text[:start] + self.text[end:]\n",
    "        \n",
    "    def past(self, offset=0):\n",
    "        self.text = self.text[:offset] + self.clip_board + self.text[offset:]\n",
    "        \n",
    "    def clear_clipboard(self):\n",
    "        self.clip_board = ''\n",
    "        \n",
    "    def length(self):\n",
    "        return len(self.text)\n",
    "    \n",
    "    def __str__(self):\n",
    "        return self.text"
   ]
  },
  {
   "cell_type": "code",
   "execution_count": 2,
   "metadata": {},
   "outputs": [],
   "source": [
    "# interface do Command\n",
    "\n",
    "class ScreenCommand:\n",
    "    def __init__(self, screen):\n",
    "        self.screen = screen\n",
    "        self.previous_state = screen.text\n",
    "        \n",
    "    def execute(self):\n",
    "        pass\n",
    "    \n",
    "    def undo(self):\n",
    "        pass"
   ]
  },
  {
   "cell_type": "code",
   "execution_count": 3,
   "metadata": {},
   "outputs": [],
   "source": [
    "class CutCommand(ScreenCommand):\n",
    "    def __init__(self, screen, start=0, end=0):\n",
    "        super().__init__(screen)\n",
    "        self.start = start\n",
    "        self.end = end\n",
    "        \n",
    "    def execute(self):\n",
    "        self.screen.cut(start=self.start, end=self.end)\n",
    "        \n",
    "    def undo(self):\n",
    "        self.screen.clear_clipboard()\n",
    "        self.screen.text = self.previous_state"
   ]
  },
  {
   "cell_type": "code",
   "execution_count": 4,
   "metadata": {},
   "outputs": [],
   "source": [
    "class PasteCommand(ScreenCommand):\n",
    "    def __init__(self, screen, offset=0):\n",
    "        super().__init__(screen)\n",
    "        self.offset = offset\n",
    "        \n",
    "    def execute(self):\n",
    "        self.screen.past(offset=self.offset)\n",
    "        \n",
    "    def undo(self):\n",
    "        self.screen.clear_clipboard()\n",
    "        self.screen.text = self.previous_state"
   ]
  },
  {
   "cell_type": "code",
   "execution_count": 5,
   "metadata": {},
   "outputs": [],
   "source": [
    "class ScreenInvoker:\n",
    "    def __init__(self):\n",
    "        self.history = []\n",
    "    \n",
    "    def store_and_execute(self, command):\n",
    "        command.execute()\n",
    "        self.history.append(command)\n",
    "        \n",
    "    def undo_last(self):\n",
    "        if self.history:\n",
    "            self.history.pop().undo()"
   ]
  },
  {
   "cell_type": "code",
   "execution_count": 6,
   "metadata": {},
   "outputs": [
    {
     "data": {
      "text/plain": [
       "'hello world'"
      ]
     },
     "execution_count": 6,
     "metadata": {},
     "output_type": "execute_result"
    }
   ],
   "source": [
    "screen = Screen('hello world')\n",
    "screen.__str__()"
   ]
  },
  {
   "cell_type": "code",
   "execution_count": 7,
   "metadata": {},
   "outputs": [],
   "source": [
    "cut = CutCommand(screen, start=5, end=11)"
   ]
  },
  {
   "cell_type": "code",
   "execution_count": 8,
   "metadata": {},
   "outputs": [],
   "source": [
    "client = ScreenInvoker()"
   ]
  },
  {
   "cell_type": "code",
   "execution_count": 9,
   "metadata": {},
   "outputs": [
    {
     "data": {
      "text/plain": [
       "'hello'"
      ]
     },
     "execution_count": 9,
     "metadata": {},
     "output_type": "execute_result"
    }
   ],
   "source": [
    "client.store_and_execute(cut)\n",
    "screen.__str__()"
   ]
  },
  {
   "cell_type": "code",
   "execution_count": 10,
   "metadata": {},
   "outputs": [],
   "source": [
    "paste = PasteCommand(screen, offset=0)"
   ]
  },
  {
   "cell_type": "code",
   "execution_count": 11,
   "metadata": {},
   "outputs": [
    {
     "data": {
      "text/plain": [
       "' worldhello'"
      ]
     },
     "execution_count": 11,
     "metadata": {},
     "output_type": "execute_result"
    }
   ],
   "source": [
    "client.store_and_execute(paste)\n",
    "screen.__str__()"
   ]
  },
  {
   "cell_type": "code",
   "execution_count": 12,
   "metadata": {},
   "outputs": [
    {
     "data": {
      "text/plain": [
       "'hello'"
      ]
     },
     "execution_count": 12,
     "metadata": {},
     "output_type": "execute_result"
    }
   ],
   "source": [
    "client.undo_last()\n",
    "screen.__str__()"
   ]
  },
  {
   "cell_type": "code",
   "execution_count": 13,
   "metadata": {},
   "outputs": [
    {
     "data": {
      "text/plain": [
       "'hello world'"
      ]
     },
     "execution_count": 13,
     "metadata": {},
     "output_type": "execute_result"
    }
   ],
   "source": [
    "client.undo_last()\n",
    "screen.__str__()"
   ]
  }
 ],
 "metadata": {
  "kernelspec": {
   "display_name": "Python 3",
   "language": "python",
   "name": "python3"
  },
  "language_info": {
   "codemirror_mode": {
    "name": "ipython",
    "version": 3
   },
   "file_extension": ".py",
   "mimetype": "text/x-python",
   "name": "python",
   "nbconvert_exporter": "python",
   "pygments_lexer": "ipython3",
   "version": "3.6.10"
  }
 },
 "nbformat": 4,
 "nbformat_minor": 4
}
