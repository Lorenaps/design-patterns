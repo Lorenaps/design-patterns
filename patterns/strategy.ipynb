{
 "cells": [
  {
   "cell_type": "markdown",
   "metadata": {},
   "source": [
    "# Strategy\n",
    "> Define uma família de algoritmos, encapsula cada um deles e dispoe uma forma de deixar todos eles intercambiáveis."
   ]
  },
  {
   "cell_type": "code",
   "execution_count": null,
   "metadata": {},
   "outputs": [],
   "source": [
    "├── behavior                    # Comportamentos especializados de acordo com a interface que se implementa\n",
    "│   ├── fly_no_way.py   \n",
    "│   ├── fly_with_wings.py\n",
    "│   ├── quack_mute.py   \n",
    "│   └── quack_squeak.py\n",
    "├── interface                   # Comportamentos especializados de acordo com a interface que se implementa       \n",
    "│   ├── fly.py   \n",
    "│   └── quack.py   \n",
    "├── duck.py                    \n",
    "├── duck_north.py                    \n",
    "├── duck_plastic.py                    \n",
    "└── Vendo o padrão acontecer    # Células que utilizam a estrutura de classes construída"
   ]
  },
  {
   "cell_type": "code",
   "execution_count": 6,
   "metadata": {},
   "outputs": [],
   "source": [
    "import abc"
   ]
  },
  {
   "cell_type": "markdown",
   "metadata": {},
   "source": [
    "### Interfaces"
   ]
  },
  {
   "cell_type": "code",
   "execution_count": 9,
   "metadata": {},
   "outputs": [],
   "source": [
    "class Fly(metaclass=abc.ABCMeta):\n",
    "    '''\n",
    "        Criação de um supertipo\n",
    "        No caso um supertipo para o comportamento de voar\n",
    "    '''\n",
    "\n",
    "    @abc.abstractmethod\n",
    "    def fly(self):\n",
    "        return"
   ]
  },
  {
   "cell_type": "code",
   "execution_count": 10,
   "metadata": {},
   "outputs": [],
   "source": [
    "class Quack(metaclass=abc.ABCMeta):\n",
    "    '''\n",
    "        Criação de um supertipo\n",
    "        No caso um supertipo para o comportamento de grasnar\n",
    "    '''\n",
    "    @abc.abstractmethod\n",
    "    def quack(self):\n",
    "        return"
   ]
  },
  {
   "cell_type": "markdown",
   "metadata": {},
   "source": [
    "### Behaviors"
   ]
  },
  {
   "cell_type": "code",
   "execution_count": 12,
   "metadata": {},
   "outputs": [],
   "source": [
    "class FlyNoWay(Fly):\n",
    "    '''\n",
    "        Implementação concreta de um supertipo (Fly)\n",
    "    '''\n",
    "\n",
    "    def fly(self):\n",
    "        print(\"I'm not flyable!\")"
   ]
  },
  {
   "cell_type": "code",
   "execution_count": 13,
   "metadata": {},
   "outputs": [],
   "source": [
    "class FlyWithWings(Fly):\n",
    "    '''\n",
    "        Implementação concreta de um supertipo (Fly)\n",
    "    '''\n",
    "\n",
    "    def __init__(self):\n",
    "        super().__init__()\n",
    "\n",
    "    def fly(self):\n",
    "        print(\"I'm flying with wings!\")"
   ]
  },
  {
   "cell_type": "code",
   "execution_count": 14,
   "metadata": {},
   "outputs": [],
   "source": [
    "class QuackMute(Quack):\n",
    "    '''\n",
    "        Implementação concreta de um supertipo (Quack)\n",
    "    '''\n",
    "\n",
    "    def quack(self):\n",
    "        print(\"I'm not quackable\")"
   ]
  },
  {
   "cell_type": "code",
   "execution_count": 15,
   "metadata": {},
   "outputs": [],
   "source": [
    "class QuackSqueak(Quack):\n",
    "    '''\n",
    "        Implementação concreta de um supertipo (Quack)\n",
    "    '''\n",
    "\n",
    "    def quack(self):\n",
    "        print(\"Squeak!\")"
   ]
  },
  {
   "cell_type": "markdown",
   "metadata": {},
   "source": [
    "### Definição da classe abstrata para os objetos a serem especializados"
   ]
  },
  {
   "cell_type": "code",
   "execution_count": 18,
   "metadata": {},
   "outputs": [],
   "source": [
    "'''\n",
    "    Classe que representa a entidade abstrata para qualquer Pato.\n",
    "    Um pato possui um coportamento de voo,\n",
    "    um comportamento de 'quack' e um nome.\n",
    "\n",
    "    Os atributos comportamentos e os métodos que executam\n",
    "    cada comportamento de forma encapsulada são parte da\n",
    "    forma de utilizar os conceitos do padrão de projeto Strategy,\n",
    "    onde adicionamos variáveis que poderão receber em tempo de\n",
    "    execução qualquer que seja o comportamento desejado.\n",
    "\n",
    "    Assim a cada novo pato nós podemos determinar a forma como\n",
    "    ele se comporta na definição da sua subclasse ou em tempo\n",
    "    de execução.\n",
    "'''\n",
    "\n",
    "\n",
    "class Duck:\n",
    "    fly_behavior = None\n",
    "    quack_behavior = None\n",
    "    name = None\n",
    "\n",
    "\n",
    "    def __init__(self, fly_behavior, quack_behavior, name):\n",
    "        self.fly_behavior = fly_behavior\n",
    "        self.quack_behavior = quack_behavior\n",
    "        self.name = name\n",
    "\n",
    "    def perform_fly(self):\n",
    "        '''\n",
    "            Princípio de programar para um supertipo\n",
    "            Nesse caso você sabe que o objeto é capaz de voar,\n",
    "            mas os detalhes da implementação desse voo ficam\n",
    "            restritos e reutilizáveis dentro de outra classe\n",
    "        '''\n",
    "        self.fly_behavior.fly()\n",
    "\n",
    "    def perform_quack(self):\n",
    "        self.quack_behavior.quack()\n",
    "\n",
    "    def display(self):\n",
    "        print(\"I'm the duck: \" + self.name)\n",
    "\n",
    "    def set_fly_behavior(self, new_fly_behavior):\n",
    "        self.fly_behavior = new_fly_behavior\n",
    "\n",
    "    def set_quack_behavior(self, new_quack_behavior):\n",
    "        self.fly_behavior = new_quack_behavior\n"
   ]
  },
  {
   "cell_type": "markdown",
   "metadata": {},
   "source": [
    "### Definição da família de patos que irão herdar da classe abstrata e utilizar so comportamentos apropriados para cada um deles"
   ]
  },
  {
   "cell_type": "code",
   "execution_count": 19,
   "metadata": {},
   "outputs": [],
   "source": [
    "'''\n",
    "    Implementação para um tipo de pato - DuckNorth\n",
    "    Essa subclasse já é instanciada com implementações\n",
    "    concretas para os comportamentos fly e quack porém é\n",
    "    possível mudar seu comportamento em tempo de execução\n",
    "    utilizando o método set_fly_behavior() da superclasse\n",
    "    Duck\n",
    "'''\n",
    "\n",
    "class DuckNorth(Duck):\n",
    "\n",
    "\n",
    "    def __init__(self, name):\n",
    "        super().__init__(FlyWithWings(), QuackSqueak(), name)"
   ]
  },
  {
   "cell_type": "code",
   "execution_count": 21,
   "metadata": {},
   "outputs": [],
   "source": [
    "'''\n",
    "    O mesmo acontece para Duck Plastic, e nesse caso ele recebe \n",
    "    os comportamentos adequados para ele visto que é um pato de brinquedo...\n",
    "'''\n",
    "\n",
    "class DuckPlastic(Duck):\n",
    "\n",
    "\n",
    "    def __init__(self, name):\n",
    "        super().__init__(FlyNoWay(), QuackMute(), name)"
   ]
  },
  {
   "cell_type": "markdown",
   "metadata": {},
   "source": [
    "### Vendo o padrão acontecer"
   ]
  },
  {
   "cell_type": "code",
   "execution_count": 35,
   "metadata": {},
   "outputs": [
    {
     "name": "stdout",
     "output_type": "stream",
     "text": [
      "I'm the duck: Abel\n"
     ]
    }
   ],
   "source": [
    "new_duck = DuckNorth(\"Abel\")\n",
    "\n",
    "new_duck.display()"
   ]
  },
  {
   "cell_type": "markdown",
   "metadata": {},
   "source": [
    "Como um DuckNorth espera-se que seu comportamento de voo seja voar com asas, o mesmo configurado na definição da subclasse"
   ]
  },
  {
   "cell_type": "code",
   "execution_count": 36,
   "metadata": {},
   "outputs": [
    {
     "name": "stdout",
     "output_type": "stream",
     "text": [
      "I'm flying with wings!\n"
     ]
    }
   ],
   "source": [
    "new_duck.perform_fly()"
   ]
  },
  {
   "cell_type": "markdown",
   "metadata": {},
   "source": [
    "Mas é possível mudar esse comportamento a qualquer momento, através do set_fly_behavior()"
   ]
  },
  {
   "cell_type": "code",
   "execution_count": 37,
   "metadata": {},
   "outputs": [
    {
     "name": "stdout",
     "output_type": "stream",
     "text": [
      "I'm not flyable!\n"
     ]
    }
   ],
   "source": [
    "new_duck.set_fly_behavior(FlyNoWay())\n",
    "new_duck.perform_fly()"
   ]
  },
  {
   "cell_type": "markdown",
   "metadata": {},
   "source": [
    "Inlcusive mudar para o comportamento original"
   ]
  },
  {
   "cell_type": "code",
   "execution_count": 38,
   "metadata": {},
   "outputs": [
    {
     "name": "stdout",
     "output_type": "stream",
     "text": [
      "I'm flying with wings!\n"
     ]
    }
   ],
   "source": [
    "new_duck.set_fly_behavior(FlyWithWings())\n",
    "new_duck.perform_fly()"
   ]
  }
 ],
 "metadata": {
  "kernelspec": {
   "display_name": "Python 3",
   "language": "python",
   "name": "python3"
  },
  "language_info": {
   "codemirror_mode": {
    "name": "ipython",
    "version": 3
   },
   "file_extension": ".py",
   "mimetype": "text/x-python",
   "name": "python",
   "nbconvert_exporter": "python",
   "pygments_lexer": "ipython3",
   "version": "3.6.8"
  }
 },
 "nbformat": 4,
 "nbformat_minor": 2
}
