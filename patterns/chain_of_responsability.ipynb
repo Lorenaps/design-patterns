{
 "cells": [
  {
   "cell_type": "markdown",
   "metadata": {},
   "source": [
    "# Chain/Chair of responsability\n",
    "\n",
    "> Cria uma cadeia de objetos que examinam sequencialmente uma solicitação. Após examinar, cada objeto pode processá-la ou passá-la adiante para o próximo objeto na cadeia.\n",
    "\n",
    "\n",
    "```bash\n",
    "Handler\n",
    "    |_ sucessor\n",
    "    |_ handleRequest()   \n",
    "^\n",
    "|\n",
    "|___ (implementações de handler)\n",
    "\n",
    "```\n",
    "\n",
    "Aspectos importantes:\n",
    "- Desconecta remetente da solicitação dos seus destinatários.\n",
    "- Simplifica o objeto porque ele não precisa conhecer a estrutura da cadeia e nem manter referências diretas aos seus membros.\n",
    "- Permite acrescentar ou remover responsabilidades dinâmicamente, alterando os membros ou a sequência da cadeia.\n",
    "- A execução de uma solicitação não é garantida, ela pode cair numa situação de exceção."
   ]
  },
  {
   "cell_type": "code",
   "execution_count": 3,
   "metadata": {},
   "outputs": [],
   "source": [
    "class Car:\n",
    "    def __init__(self, name, water, fuel, oil):\n",
    "        self.name = name\n",
    "        self.water = water\n",
    "        self.fuel = fuel\n",
    "        self.oil = oil\n",
    "        \n",
    "    def is_fine(self):\n",
    "        if self.water >= 20 and self.fuel >= 5 and self.oil >= 10:\n",
    "            print('Car is good to go')\n",
    "            return True\n",
    "        else:\n",
    "            return False"
   ]
  },
  {
   "cell_type": "code",
   "execution_count": 4,
   "metadata": {},
   "outputs": [],
   "source": [
    "class Handler:\n",
    "    def __init__(self, successor=None):\n",
    "        self._successor = successor\n",
    "        \n",
    "    def handle_request(self, car):\n",
    "        if not car.is_fine() and self._successor is not None:\n",
    "            self._successor.handle_request(car)"
   ]
  },
  {
   "cell_type": "code",
   "execution_count": 5,
   "metadata": {},
   "outputs": [],
   "source": [
    "class WaterHandler(Handler):\n",
    "    def handle_request(self, car):\n",
    "        if car.water < 20:\n",
    "            car.water = 100\n",
    "            print('Added water')\n",
    "        super().handle_request(car)\n",
    "\n",
    "class FuelHandler(Handler):\n",
    "    def handle_request(self, car):\n",
    "        if car.fuel < 5:\n",
    "            car.fuel = 100\n",
    "            print('Added fuel')\n",
    "        super().handle_request(car)\n",
    "        \n",
    "\n",
    "class OilHandler(Handler):\n",
    "    def handle_request(self, car):\n",
    "        if car.oil < 10:\n",
    "            car.oil = 100\n",
    "            print('Added oil')\n",
    "        super().handle_request(car)"
   ]
  },
  {
   "cell_type": "code",
   "execution_count": 6,
   "metadata": {},
   "outputs": [
    {
     "data": {
      "text/plain": [
       "<__main__.OilHandler at 0x7ff0fcdd6550>"
      ]
     },
     "execution_count": 6,
     "metadata": {},
     "output_type": "execute_result"
    }
   ],
   "source": [
    "garage_handler = OilHandler(FuelHandler(WaterHandler()))\n",
    "garage_handler"
   ]
  },
  {
   "cell_type": "code",
   "execution_count": 7,
   "metadata": {},
   "outputs": [
    {
     "data": {
      "text/plain": [
       "<__main__.OilHandler at 0x7ff0fcdd6550>"
      ]
     },
     "execution_count": 7,
     "metadata": {},
     "output_type": "execute_result"
    }
   ],
   "source": [
    "car = Car('my car', 1, 1, 1)\n",
    "garage_handler"
   ]
  },
  {
   "cell_type": "code",
   "execution_count": 8,
   "metadata": {},
   "outputs": [
    {
     "name": "stdout",
     "output_type": "stream",
     "text": [
      "Added oil\n",
      "Added water\n",
      "Car is good to go\n"
     ]
    }
   ],
   "source": [
    "car = Car('my car', 5, 5, 5)\n",
    "garage_handler.handle_request(car)"
   ]
  },
  {
   "cell_type": "code",
   "execution_count": 9,
   "metadata": {},
   "outputs": [
    {
     "name": "stdout",
     "output_type": "stream",
     "text": [
      "Car is good to go\n"
     ]
    }
   ],
   "source": [
    "car = Car('my car', 100, 100, 100)\n",
    "garage_handler.handle_request(car)"
   ]
  }
 ],
 "metadata": {
  "kernelspec": {
   "display_name": "Python 3",
   "language": "python",
   "name": "python3"
  },
  "language_info": {
   "codemirror_mode": {
    "name": "ipython",
    "version": 3
   },
   "file_extension": ".py",
   "mimetype": "text/x-python",
   "name": "python",
   "nbconvert_exporter": "python",
   "pygments_lexer": "ipython3",
   "version": "3.6.10"
  }
 },
 "nbformat": 4,
 "nbformat_minor": 4
}
