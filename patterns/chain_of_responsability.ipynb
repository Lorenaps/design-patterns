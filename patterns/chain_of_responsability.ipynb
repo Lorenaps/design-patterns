{
 "cells": [
  {
   "cell_type": "markdown",
   "metadata": {},
   "source": [
    "# Chain/Chair of responsability\n",
    "\n",
    "> Cria uma cadeia de objetos que examinam sequencialmente uma solicitação. Após examinar, cada objeto pode processá-la ou passá-la adiante para o próximo objeto na cadeia.\n",
    "\n",
    "\n",
    "```bash\n",
    "Handler\n",
    "    |_ sucessor\n",
    "    |_ handleRequest()   \n",
    "^\n",
    "|\n",
    "|___ (implementações de handler)\n",
    "\n",
    "```\n",
    "\n",
    "Aspectos importantes:\n",
    "- Desconecta remetente da solicitação dos seus destinatários.\n",
    "- Simplifica o objeto porque ele não precisa conhecer a estrutura da cadeia e nem manter referências diretas aos seus membros.\n",
    "- Permite acrescentar ou remover responsabilidades dinâmicamente, alterando os membros ou a sequência da cadeia.\n",
    "- A execução de uma solicitação não é garantida, ela pode cair numa situação de exceção."
   ]
  },
  {
   "cell_type": "code",
   "execution_count": null,
   "metadata": {},
   "outputs": [],
   "source": []
  }
 ],
 "metadata": {
  "kernelspec": {
   "display_name": "Python 3",
   "language": "python",
   "name": "python3"
  },
  "language_info": {
   "codemirror_mode": {
    "name": "ipython",
    "version": 3
   },
   "file_extension": ".py",
   "mimetype": "text/x-python",
   "name": "python",
   "nbconvert_exporter": "python",
   "pygments_lexer": "ipython3",
   "version": "3.6.10"
  }
 },
 "nbformat": 4,
 "nbformat_minor": 4
}
