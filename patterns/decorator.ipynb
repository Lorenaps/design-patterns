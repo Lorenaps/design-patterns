{
 "cells": [
  {
   "cell_type": "code",
   "execution_count": 2,
   "metadata": {},
   "outputs": [],
   "source": [
    "'''\n",
    "    Usando Decorator em python: Temos uma função que permite extender\n",
    "    o comportamento de um segunda função sem precisar modificar o\n",
    "    código da segunda função explicitamente.\n",
    "\n",
    "    Ele é uma função que recebe outra função como parâmentro. E para\n",
    "    utilizarmos é só colocar antes da função que vai ser decorada a notação\n",
    "    @nome_do_decorator\n",
    "\n",
    "    Atenção para o retorno do decorator\n",
    "'''\n",
    "\n",
    "import time"
   ]
  },
  {
   "cell_type": "code",
   "execution_count": 3,
   "metadata": {},
   "outputs": [],
   "source": [
    "\n",
    "#Função decorator\n",
    "def timing_function(some_function):\n",
    "    '''\n",
    "        Função para\n",
    "        :param some_function: função a qual queremos contabilizar o\n",
    "        tempo de execução.\n",
    "        :return: wrapper: função interna que contabiliza o tempo de\n",
    "        execução de outra função.\n",
    "    '''\n",
    "    def wrapper():\n",
    "        '''\n",
    "            Fução para contabiliza o tempo de execução de outra função.\n",
    "        '''\n",
    "        start = time.time()\n",
    "        some_function()\n",
    "        end = time.time()\n",
    "        print(\"Time it took to run the function: \" + str((end - start)) + \"\\n\")\n",
    "    return wrapper"
   ]
  },
  {
   "cell_type": "code",
   "execution_count": 4,
   "metadata": {},
   "outputs": [
    {
     "name": "stdout",
     "output_type": "stream",
     "text": [
      "\n",
      "Sum of all the numbers: 49995000\n",
      "Time it took to run the function: 0.00201416015625\n",
      "\n"
     ]
    }
   ],
   "source": [
    "#Função que pode ser decorada\n",
    "@timing_function\n",
    "def my_function():\n",
    "    '''\n",
    "        Função que soma o conjunto de números gerados aleatoriamente\n",
    "        e adicionados a uma lista.\n",
    "    '''\n",
    "    num_list = []\n",
    "    for num in range(0, 10000):\n",
    "        num_list.append(num)\n",
    "    print(\"\\nSum of all the numbers: \" + str((sum(num_list))))\n",
    "\n",
    "my_function()"
   ]
  },
  {
   "cell_type": "code",
   "execution_count": null,
   "metadata": {},
   "outputs": [],
   "source": []
  }
 ],
 "metadata": {
  "kernelspec": {
   "display_name": "Python 3",
   "language": "python",
   "name": "python3"
  },
  "language_info": {
   "codemirror_mode": {
    "name": "ipython",
    "version": 3
   },
   "file_extension": ".py",
   "mimetype": "text/x-python",
   "name": "python",
   "nbconvert_exporter": "python",
   "pygments_lexer": "ipython3",
   "version": "3.6.8"
  }
 },
 "nbformat": 4,
 "nbformat_minor": 2
}
